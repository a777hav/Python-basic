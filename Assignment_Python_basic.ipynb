{
  "nbformat": 4,
  "nbformat_minor": 0,
  "metadata": {
    "colab": {
      "provenance": []
    },
    "kernelspec": {
      "name": "python3",
      "display_name": "Python 3"
    },
    "language_info": {
      "name": "python"
    }
  },
  "cells": [
    {
      "cell_type": "markdown",
      "source": [
        "#Python basic"
      ],
      "metadata": {
        "id": "29PDWC0pOScn"
      }
    },
    {
      "cell_type": "markdown",
      "source": [
        "1. What is Python, and why is it popular?\n",
        "  - Python is a high-level, interpreted programming language known for its simplicity and readability.\n",
        "  It is widely used for web development, data science, machine learning, automation, and scripting .\n",
        "\n",
        "2. What is an interpreter in Python\n",
        "  - An interpreter in Python is a program that executes Python code line by line, rather than compiling the entire program at once.\n",
        "\n",
        "3. What are pre-defined keywords in Python\n",
        "  - Keywords in Python are reserved words that have a specific meaning and purpose. You cannot use them as variable names.\n",
        "\n",
        "4. Can keywords be used as variable names\n",
        "  - NO.\n",
        "\n",
        "5. What is mutability in Python\n",
        "  - mutability refers to whether an object in python can be modified after creation or not.\n",
        "\n",
        "6. Why are lists mutable, but tuples\n",
        "   are  immutable\n",
        "  - Lists in Python are mutable because they are stored in dynamic memory, allowing in-place modifications like adding, removing, or changing elements. In contrast, tuples are immutable as they are stored in static memory, making them fixed in size and unchangeable after creation. This immutability makes tuples faster and more memory-efficient compared to lists.\n",
        "\n",
        "7. What is the difference between “==” and “is” operators in Python\n",
        "  - \"==\" this check the the value is equal to coressponding value and return True.\n",
        "  \"is\" Compares memory locations of two variables.\n",
        "  Returns True only if both variables refer to the same object in memory.\n",
        "\n",
        "8. What are logical operators in Python\n",
        "  - Logical operators are used to combine conditional statements and return a Boolean value (True or False).\n",
        "\n",
        "9. 1. What is type casting in Python?\n",
        "  - Type casting is the process of converting one data type into another.\n",
        "  It can be done using functions like int(), float(), str(), list(), etc.\n",
        "\n",
        "10. What is the difference between\n",
        "  implicit and explicit type casting?\n",
        "  - Implicit Type Casting:\n",
        "\n",
        "   Automatically performed by Python.\n",
        "  Converts smaller data types to larger ones\n",
        "  Explicit Type Casting:\n",
        "\n",
        "  Manually performed by the programmer.\n",
        "  Use functions like int(), float(), str().\n",
        "\n",
        "11. What is the purpose of conditional statements in Python?\n",
        "  - Conditional statements are used to execute different blocks of code based on specific conditions.\n",
        "  They help in making decisions during program execution.\n",
        "\n",
        "12. How does the elif statement work?\n",
        "  - The elif statement stands for \"else if\".\n",
        "  It allows you to check multiple conditions after the if statement.\n",
        "\n",
        "13. What is the difference between for and while loops?\n",
        "  - for Loop:\n",
        "\n",
        "  Used for iterating over sequences (lists,\n",
        "  tuples, ranges).\n",
        "  Executes a fixed number of times.\n",
        "  while Loop:\n",
        "\n",
        "  Repeats as long as a condition is True.\n",
        "  Suitable for indefinite repetition.\n",
        "\n",
        "14. Describe a scenario where a while    \n",
        "   loop is more suitable than a for loop?\n",
        "  - A while loop is more suitable when you don’t know how many iterations are required in advance.\n",
        "  Scenario:\n",
        "  User Input Validation: Keep asking for valid input until the user provides it."
      ],
      "metadata": {
        "id": "JFMgSxYkOX3k"
      }
    },
    {
      "cell_type": "markdown",
      "source": [
        "#Practical Questions"
      ],
      "metadata": {
        "id": "zUU2fK16Trf0"
      }
    },
    {
      "cell_type": "code",
      "source": [
        "# Write a Python program to print \"Hello, World!\"\n",
        "print(\"hello world!\")"
      ],
      "metadata": {
        "colab": {
          "base_uri": "https://localhost:8080/"
        },
        "id": "kbCG7D41T4Y3",
        "outputId": "adba4bfc-400c-43a4-de94-150425616738"
      },
      "execution_count": 1,
      "outputs": [
        {
          "output_type": "stream",
          "name": "stdout",
          "text": [
            "hello world!\n"
          ]
        }
      ]
    },
    {
      "cell_type": "code",
      "source": [
        "# Write a Python program that displays your name and age\n",
        "name=\"anubhav\"\n",
        "age=21\n",
        "print(name, age)"
      ],
      "metadata": {
        "colab": {
          "base_uri": "https://localhost:8080/"
        },
        "id": "UJbE_WRqT7u_",
        "outputId": "a6c115de-533a-4c2c-e61c-30d2bd2b4274"
      },
      "execution_count": 3,
      "outputs": [
        {
          "output_type": "stream",
          "name": "stdout",
          "text": [
            "anubhav 21\n"
          ]
        }
      ]
    },
    {
      "cell_type": "code",
      "source": [
        "# Write code to print all the pre-defined keywords in Python using the keyword library\n",
        "import keyword\n",
        "print(keyword.kwlist)"
      ],
      "metadata": {
        "colab": {
          "base_uri": "https://localhost:8080/"
        },
        "id": "y_wQEWVRUGWO",
        "outputId": "5d6ba056-c3a4-49d7-f7e5-35206fb99b81"
      },
      "execution_count": 4,
      "outputs": [
        {
          "output_type": "stream",
          "name": "stdout",
          "text": [
            "['False', 'None', 'True', 'and', 'as', 'assert', 'async', 'await', 'break', 'class', 'continue', 'def', 'del', 'elif', 'else', 'except', 'finally', 'for', 'from', 'global', 'if', 'import', 'in', 'is', 'lambda', 'nonlocal', 'not', 'or', 'pass', 'raise', 'return', 'try', 'while', 'with', 'yield']\n"
          ]
        }
      ]
    },
    {
      "cell_type": "code",
      "source": [
        "# Write a program that checks if a given word is a Python keyword.\n",
        "word=\"if\"\n",
        "if keyword.iskeyword(word):\n",
        "    print(f\"{word} is a keyword\")\n",
        "else:\n",
        "    print(f\"{word} is not a keyword\")"
      ],
      "metadata": {
        "colab": {
          "base_uri": "https://localhost:8080/"
        },
        "id": "jXc4PA3lUWRa",
        "outputId": "6e0e237f-4b50-466f-ec77-ce186e0145b0"
      },
      "execution_count": 5,
      "outputs": [
        {
          "output_type": "stream",
          "name": "stdout",
          "text": [
            "if is a keyword\n"
          ]
        }
      ]
    },
    {
      "cell_type": "code",
      "source": [
        "'''Create a list and tuple in Python, and demonstrate how attempting to change an element works differently\n",
        "for each.'''\n",
        "my_list = [1, 2, 3]\n",
        "my_tuple = (1, 2, 3)\n",
        "my_list[0] = 10\n",
        "print(\"Modified list:\", my_list)"
      ],
      "metadata": {
        "colab": {
          "base_uri": "https://localhost:8080/"
        },
        "id": "dLilcJKyUeON",
        "outputId": "30b20152-5c7c-492d-ed7b-3b1a02c31114"
      },
      "execution_count": 6,
      "outputs": [
        {
          "output_type": "stream",
          "name": "stdout",
          "text": [
            "Modified list: [10, 2, 3]\n"
          ]
        }
      ]
    },
    {
      "cell_type": "code",
      "source": [
        "# Write a function to demonstrate the behavior of mutable and immutable arguments.\n",
        "a=[\"anubhav\", 2 ,2.3]\n",
        "a[0]=\"2\"\n",
        "print(a)"
      ],
      "metadata": {
        "colab": {
          "base_uri": "https://localhost:8080/"
        },
        "id": "TZMM1EBEUnn5",
        "outputId": "67b8d196-4c96-4b57-ecf4-81685fcdfc54"
      },
      "execution_count": 7,
      "outputs": [
        {
          "output_type": "stream",
          "name": "stdout",
          "text": [
            "['2', 2, 2.3]\n"
          ]
        }
      ]
    },
    {
      "cell_type": "code",
      "source": [
        "# Write a program that performs basic arithmetic operations on two user-input numbers.\n",
        "a=int(input(\"enter first number\"))\n",
        "b=int(input(\"enter second number\"))\n",
        "print(a+b)\n",
        "print(a-b)\n",
        "print(a*b)\n",
        "print(a/b)"
      ],
      "metadata": {
        "colab": {
          "base_uri": "https://localhost:8080/"
        },
        "id": "dmzBXrXcU-G2",
        "outputId": "df1cb3ce-9e6e-4587-87d3-8aabbab98f5a"
      },
      "execution_count": 8,
      "outputs": [
        {
          "output_type": "stream",
          "name": "stdout",
          "text": [
            "enter first number15\n",
            "enter second number52\n",
            "67\n",
            "-37\n",
            "780\n",
            "0.28846153846153844\n"
          ]
        }
      ]
    },
    {
      "cell_type": "code",
      "source": [
        "#  Write a program to demonstrate the use of logical operators.\n",
        "a=2\n",
        "if a==2:\n",
        "  print(\"True\")"
      ],
      "metadata": {
        "colab": {
          "base_uri": "https://localhost:8080/"
        },
        "id": "-IeCouutVJAe",
        "outputId": "b5e537d9-3c64-4017-fbb5-1e5c04cce70b"
      },
      "execution_count": 9,
      "outputs": [
        {
          "output_type": "stream",
          "name": "stdout",
          "text": [
            "True\n"
          ]
        }
      ]
    },
    {
      "cell_type": "code",
      "source": [
        "# Write a Python program to convert user input from string to integer, float, and boolean types.\n",
        "a=input(\"enter a string\")\n",
        "print(int(a))\n",
        "print(float(a))\n",
        "print(bool(a))"
      ],
      "metadata": {
        "colab": {
          "base_uri": "https://localhost:8080/"
        },
        "id": "oeT6cIj7VUjB",
        "outputId": "6957b7da-cfd3-4fc7-fd09-518e54331099"
      },
      "execution_count": 10,
      "outputs": [
        {
          "output_type": "stream",
          "name": "stdout",
          "text": [
            "enter a string45\n",
            "45\n",
            "45.0\n",
            "True\n"
          ]
        }
      ]
    },
    {
      "cell_type": "code",
      "source": [
        "#  Write code to demonstrate type casting with list elements.\n",
        "a=int(input(\"enter a number\"))\n",
        "b=float(input(\"enter a number\"))\n",
        "c=bool(input(\"enter a number\"))\n",
        "print(a,b,c)"
      ],
      "metadata": {
        "colab": {
          "base_uri": "https://localhost:8080/"
        },
        "id": "TQjPjMw4VcK3",
        "outputId": "4dba1ad0-e5c5-45f6-ef43-b1fa5ebca943"
      },
      "execution_count": 12,
      "outputs": [
        {
          "output_type": "stream",
          "name": "stdout",
          "text": [
            "enter a number55\n",
            "enter a number36\n",
            "enter a number6\n",
            "55 36.0 True\n"
          ]
        }
      ]
    },
    {
      "cell_type": "code",
      "source": [
        "# Write a program that checks if a number is positive, negative, or zero\n",
        "a=int(input(\"enter a number\"))\n",
        "if a>0:\n",
        "    print(\"positive\")\n",
        "elif a<0:\n",
        "    print(\"negative\")\n",
        "else:\n",
        "    print(\"zero\")"
      ],
      "metadata": {
        "id": "iZYPgsvwVrpY"
      },
      "execution_count": null,
      "outputs": []
    },
    {
      "cell_type": "code",
      "source": [
        "# Write a for loop to print numbers from 1 to 10.\n",
        "for i in range(1,11):\n",
        "  print(i)"
      ],
      "metadata": {
        "colab": {
          "base_uri": "https://localhost:8080/"
        },
        "id": "HGxExhn0VztE",
        "outputId": "af86f990-248b-4875-a096-f911bf8bb100"
      },
      "execution_count": 17,
      "outputs": [
        {
          "output_type": "stream",
          "name": "stdout",
          "text": [
            "1\n",
            "2\n",
            "3\n",
            "4\n",
            "5\n",
            "6\n",
            "7\n",
            "8\n",
            "9\n",
            "10\n"
          ]
        }
      ]
    },
    {
      "cell_type": "code",
      "source": [
        "# Write a Python program to find the sum of all even numbers between 1 and 50.\n",
        "sum_even = 0\n",
        "for num in range(1, 51):\n",
        "    if num % 2 == 0:\n",
        "        sum_even += num\n",
        "print(\"Sum of all even numbers between 1 and 50:\", sum_even)"
      ],
      "metadata": {
        "colab": {
          "base_uri": "https://localhost:8080/"
        },
        "id": "68UJxTajWA5N",
        "outputId": "240cf35f-1e43-42fd-d794-1f58feac9bca"
      },
      "execution_count": 18,
      "outputs": [
        {
          "output_type": "stream",
          "name": "stdout",
          "text": [
            "Sum of all even numbers between 1 and 50: 650\n"
          ]
        }
      ]
    },
    {
      "cell_type": "code",
      "source": [
        "# Write a program to reverse a string using a while loop\n",
        "text = input(\"Enter a string: \")\n",
        "reversed_text = \"\"\n",
        "i = len(text) - 1\n",
        "while i >= 0:\n",
        "    reversed_text += text[i]\n",
        "    i -= 1\n",
        "print(\"Reversed string:\", reversed_text)"
      ],
      "metadata": {
        "colab": {
          "base_uri": "https://localhost:8080/"
        },
        "id": "vwgD9DEgWf8x",
        "outputId": "455678b4-a488-4d92-ee0b-bd007b5e6a87"
      },
      "execution_count": 19,
      "outputs": [
        {
          "output_type": "stream",
          "name": "stdout",
          "text": [
            "Enter a string: jdjddddd\n",
            "Reversed string: dddddjdj\n"
          ]
        }
      ]
    },
    {
      "cell_type": "code",
      "source": [
        "# Write a Python program to calculate the factorial of a number provided by the user using a while loop.\n",
        "num = int(input(\"Enter a number: \"))\n",
        "factorial = 1\n",
        "i = num\n",
        "while i > 0:\n",
        "    factorial *= i\n",
        "    i -= 1\n",
        "print(f\"Factorial of {num} is {factorial}\")"
      ],
      "metadata": {
        "colab": {
          "base_uri": "https://localhost:8080/"
        },
        "id": "SWuz6ZGRW0lh",
        "outputId": "1f16e937-7d74-4034-f055-12d7b3b5ba1a"
      },
      "execution_count": 20,
      "outputs": [
        {
          "output_type": "stream",
          "name": "stdout",
          "text": [
            "Enter a number: 10\n",
            "Factorial of 10 is 3628800\n"
          ]
        }
      ]
    },
    {
      "cell_type": "code",
      "source": [],
      "metadata": {
        "id": "50-Dj1_FXDWM"
      },
      "execution_count": null,
      "outputs": []
    }
  ]
}